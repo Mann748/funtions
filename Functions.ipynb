{
  "nbformat": 4,
  "nbformat_minor": 0,
  "metadata": {
    "colab": {
      "provenance": []
    },
    "kernelspec": {
      "name": "python3",
      "display_name": "Python 3"
    },
    "language_info": {
      "name": "python"
    }
  },
  "cells": [
    {
      "cell_type": "markdown",
      "source": [
        "#Functions"
      ],
      "metadata": {
        "id": "Aht4UWrawwIO"
      }
    },
    {
      "cell_type": "markdown",
      "source": [
        "1. What is the difference between a function and a method in Python?\n",
        " - In Python, a function is a block of reusable code that performs a specific task and can be defined independently using the def keyword, while a method is a function that is associated with an object and is defined within a class. Methods automatically take the instance (commonly named self) as their first parameter, which allows them to access and modify the object's attributes. Functions can be called on their own, whereas methods are called on objects using dot notation. This distinction is important in object-oriented programming, where methods help define the behavior of objects.\n",
        "\n",
        "  EXAMPLE ✈"
      ],
      "metadata": {
        "id": "kilK1YkRw2Xe"
      }
    },
    {
      "cell_type": "code",
      "source": [
        "def add(a, b):\n",
        "    return a + b\n",
        "\n",
        "class Calculator:\n",
        "    def multiply(self, a, b):\n",
        "        return a * b\n",
        "\n",
        "print(add(2, 3))  # Function call\n",
        "calc = Calculator()\n",
        "print(calc.multiply(4, 5))  # Method call\n"
      ],
      "metadata": {
        "colab": {
          "base_uri": "https://localhost:8080/"
        },
        "id": "TJ2HEC-8kceI",
        "outputId": "1790fc45-4bc6-459f-97e5-79ea1b93f29f"
      },
      "execution_count": null,
      "outputs": [
        {
          "output_type": "stream",
          "name": "stdout",
          "text": [
            "5\n",
            "20\n"
          ]
        }
      ]
    },
    {
      "cell_type": "markdown",
      "source": [
        "2. Explain the concept of function arguments and parameters in Python.\n",
        " - In Python, parameters are the variable names listed in a function's definition, while arguments are the actual values passed to the function when it is called. Parameters act as placeholders that receive the values of the arguments during execution. Python supports different types of arguments, such as positional arguments, keyword arguments, default arguments, and variable-length arguments. Understanding how parameters and arguments work allows you to write flexible and reusable functions that can handle different inputs effectively.\n",
        "\n",
        " EXAMPLE ✈"
      ],
      "metadata": {
        "id": "xv1-j9zvkuZN"
      }
    },
    {
      "cell_type": "code",
      "source": [
        "def greet(name, message=\"Hello\"):\n",
        "    print(f\"{message}, {name}!\")\n",
        "\n",
        "greet(\"Alice\")               # Uses default message\n",
        "greet(\"Bob\", \"Good morning\")  # Overrides default\n"
      ],
      "metadata": {
        "colab": {
          "base_uri": "https://localhost:8080/"
        },
        "id": "FAJt-tEblJGm",
        "outputId": "5dd4b8e1-0b96-42c4-fa4f-9e6bd349a862"
      },
      "execution_count": null,
      "outputs": [
        {
          "output_type": "stream",
          "name": "stdout",
          "text": [
            "Hello, Alice!\n",
            "Good morning, Bob!\n"
          ]
        }
      ]
    },
    {
      "cell_type": "markdown",
      "source": [
        "3. What are the different ways to define and call a function in Python?\n",
        " - In Python, functions can be defined using the def keyword or with the lambda keyword for creating anonymous functions. Once defined, functions can be called using their name followed by parentheses, optionally passing arguments. Functions can be called using positional arguments, keyword arguments, or a combination of both. Additionally, Python supports functions with default parameters, variable-length arguments using *args and **kwargs, and recursive function calls. These features provide flexibility in how functions are defined and invoked to suit different programming needs.\n",
        "\n",
        " EXAMPLE ✈"
      ],
      "metadata": {
        "id": "0bv3z6gHlY0s"
      }
    },
    {
      "cell_type": "code",
      "source": [
        "# Regular function with default and keyword arguments\n",
        "def describe_pet(name, animal_type=\"dog\"):\n",
        "    print(f\"I have a {animal_type} named {name}.\")\n",
        "\n",
        "describe_pet(\"Buddy\")  # Positional argument, uses default animal_type\n",
        "describe_pet(name=\"Whiskers\", animal_type=\"cat\")  # Keyword arguments\n",
        "\n",
        "# Lambda function\n",
        "square = lambda x: x * x\n",
        "print(square(4))  # Output: 16\n"
      ],
      "metadata": {
        "colab": {
          "base_uri": "https://localhost:8080/"
        },
        "id": "RGEOuOPFmHxP",
        "outputId": "d1f20972-e297-4559-cea4-cdde706fbd24"
      },
      "execution_count": null,
      "outputs": [
        {
          "output_type": "stream",
          "name": "stdout",
          "text": [
            "I have a dog named Buddy.\n",
            "I have a cat named Whiskers.\n",
            "16\n"
          ]
        }
      ]
    },
    {
      "cell_type": "markdown",
      "source": [
        "4. What is the purpose of the `return` statement in a Python function?\n",
        " - The return statement in a Python function is used to send a result back to the place where the function was called. It ends the function’s execution and optionally passes an expression or value back to the caller. This allows the function to produce an output that can be stored in a variable, used in an expression, or passed to another function. Without a return statement, a function returns None by default. Using return makes functions more flexible and useful by allowing them to provide data or results instead of just performing actions.\n",
        "\n",
        " EXAMPLE ✈"
      ],
      "metadata": {
        "id": "vRwstkJumLDv"
      }
    },
    {
      "cell_type": "code",
      "source": [
        "def add(a, b):\n",
        "    return a + b\n",
        "\n",
        "result = add(5, 3)\n",
        "print(result)  # Output: 8\n"
      ],
      "metadata": {
        "colab": {
          "base_uri": "https://localhost:8080/"
        },
        "id": "EObQ_J5AmrKE",
        "outputId": "1765cf5b-35e1-49b1-d0ec-e4e905f277fc"
      },
      "execution_count": null,
      "outputs": [
        {
          "output_type": "stream",
          "name": "stdout",
          "text": [
            "8\n"
          ]
        }
      ]
    },
    {
      "cell_type": "markdown",
      "source": [
        "5. What are iterators in Python and how do they differ from iterables?\n",
        " - In Python, an iterable is any object capable of returning its elements one at a time, such as lists, tuples, strings, and dictionaries. These objects implement the iter method and can be used in loops. An iterator, on the other hand, is an object that represents a stream of data and implements both the iter and next methods. While all iterators are iterables, not all iterables are iterators. You can get an iterator from an iterable by using the iter() function. Iterators maintain state and allow you to manually retrieve elements one by one using next(), which raises a StopIteration exception when no more elements are available.\n",
        "\n",
        " EXAMPLE ✈"
      ],
      "metadata": {
        "id": "wYLYAFtpmv4O"
      }
    },
    {
      "cell_type": "code",
      "source": [
        "my_list = [1, 2, 3]\n",
        "iterator = iter(my_list)\n",
        "\n",
        "print(next(iterator))  # Output: 1\n",
        "print(next(iterator))  # Output: 2\n",
        "print(next(iterator))  # Output: 3\n"
      ],
      "metadata": {
        "colab": {
          "base_uri": "https://localhost:8080/"
        },
        "id": "svsof-oLnF7W",
        "outputId": "142149ea-af49-44d7-f1b1-e46c1ffcca18"
      },
      "execution_count": null,
      "outputs": [
        {
          "output_type": "stream",
          "name": "stdout",
          "text": [
            "1\n",
            "2\n",
            "3\n"
          ]
        }
      ]
    },
    {
      "cell_type": "markdown",
      "source": [
        "6. Explain the concept of generators in Python and how they are defined.\n",
        " - Generators in Python are a way to create iterators in a more concise and memory-efficient manner using a special type of function that yields values one at a time instead of returning them all at once. They are defined like normal functions but use the yield keyword instead of return. Each time the generator’s next method is called, execution resumes from where it left off after the last yield statement, preserving its state between calls. This makes generators useful for working with large datasets or streams of data where generating all values at once would be inefficient or impractical.\n",
        "\n",
        " EXAMPLE ✈"
      ],
      "metadata": {
        "id": "B1NvzWt6nOZe"
      }
    },
    {
      "cell_type": "code",
      "source": [
        "def count_up_to(n):\n",
        "    count = 1\n",
        "    while count <= n:\n",
        "        yield count\n",
        "        count += 1\n",
        "\n",
        "for number in count_up_to(3):\n",
        "    print(number)  # Output: 1, 2, 3\n"
      ],
      "metadata": {
        "colab": {
          "base_uri": "https://localhost:8080/"
        },
        "id": "NoLh69E-npuH",
        "outputId": "77f5f43d-668b-4bed-be26-905ed42112de"
      },
      "execution_count": null,
      "outputs": [
        {
          "output_type": "stream",
          "name": "stdout",
          "text": [
            "1\n",
            "2\n",
            "3\n"
          ]
        }
      ]
    },
    {
      "cell_type": "markdown",
      "source": [
        "7.  What are the advantages of using generators over regular functions?\n",
        " - Generators offer several advantages over regular functions, especially when working with large data sets or streams. Unlike regular functions that return all results at once and store them in memory, generators yield one item at a time, using less memory and allowing for efficient data processing. They maintain their state between yields, which means they can be paused and resumed, making them suitable for handling infinite sequences or data that is expensive to compute. Generators are also more readable and concise than using classes to create iterators manually, providing a clean and Pythonic way to write lazy iterators.\n",
        "\n",
        " EXAMPLE ✈"
      ],
      "metadata": {
        "id": "xUzpLOxCns6j"
      }
    },
    {
      "cell_type": "code",
      "source": [
        "def even_numbers(limit):\n",
        "    num = 0\n",
        "    while num <= limit:\n",
        "        if num % 2 == 0:\n",
        "            yield num\n",
        "        num += 1\n",
        "\n",
        "for n in even_numbers(6):\n",
        "    print(n)  # Output: 0, 2, 4, 6\n"
      ],
      "metadata": {
        "colab": {
          "base_uri": "https://localhost:8080/"
        },
        "id": "9lnxt4-ooQHl",
        "outputId": "96c576f2-a243-4821-b2f1-95db6443abd1"
      },
      "execution_count": null,
      "outputs": [
        {
          "output_type": "stream",
          "name": "stdout",
          "text": [
            "0\n",
            "2\n",
            "4\n",
            "6\n"
          ]
        }
      ]
    },
    {
      "cell_type": "markdown",
      "source": [
        "8. What is a lambda function in Python and when is it typically used?\n",
        " - A lambda function in Python is a small anonymous function defined using the lambda keyword instead of the usual def statement. It can take any number of arguments but can only contain a single expression, which is evaluated and returned. Lambda functions are typically used for short, throwaway functions that are not reused elsewhere in the code, especially when passing functions as arguments to higher-order functions like map, filter, or sorted. They are useful for writing concise and readable code in situations where defining a full function would be unnecessarily verbose.\n",
        "\n",
        " EXAMPLE ✈"
      ],
      "metadata": {
        "id": "6xQdwCeUoTcQ"
      }
    },
    {
      "cell_type": "code",
      "source": [
        "numbers = [3, 1, 4, 2]\n",
        "sorted_numbers = sorted(numbers, key=lambda x: -x)\n",
        "print(sorted_numbers)  # Output: [4, 3, 2, 1]\n"
      ],
      "metadata": {
        "colab": {
          "base_uri": "https://localhost:8080/"
        },
        "id": "eBYasLsoo8aw",
        "outputId": "63c9e056-7c4d-44ed-992d-a4da5793514d"
      },
      "execution_count": null,
      "outputs": [
        {
          "output_type": "stream",
          "name": "stdout",
          "text": [
            "[4, 3, 2, 1]\n"
          ]
        }
      ]
    },
    {
      "cell_type": "markdown",
      "source": [
        "9.  Explain the purpose and usage of the `map()` function in Python.\n",
        " - The map() function in Python is used to apply a specified function to each item in an iterable, such as a list or tuple, and returns a map object containing the results. It is useful when you want to transform all elements of an iterable without writing an explicit loop. The map() function takes two arguments: the function to apply and the iterable to process. It is often used with lambda functions for concise transformations and can be converted to a list or other collection type if needed. This approach is efficient and helps keep code clean and readable.\n",
        "\n",
        " EXAMPLE ✈"
      ],
      "metadata": {
        "id": "edFCD6rCo_Cm"
      }
    },
    {
      "cell_type": "code",
      "source": [
        "numbers = [1, 2, 3, 4]\n",
        "squared = map(lambda x: x ** 2, numbers)\n",
        "print(list(squared))"
      ],
      "metadata": {
        "colab": {
          "base_uri": "https://localhost:8080/"
        },
        "id": "Ocwq9t6HpTuF",
        "outputId": "3c5ddefc-8f26-4089-9d70-d1c3622fc1cc"
      },
      "execution_count": null,
      "outputs": [
        {
          "output_type": "stream",
          "name": "stdout",
          "text": [
            "[1, 4, 9, 16]\n"
          ]
        }
      ]
    },
    {
      "cell_type": "markdown",
      "source": [
        "10. What is the difference between `map()`, `reduce()`, and `filter()` functions in Python?\n",
        " - The map(), reduce(), and filter() functions in Python are all used for processing iterables but serve different purposes. The map() function applies a given function to every item in an iterable and returns a new iterable with the transformed items. The filter() function, on the other hand, applies a function that returns a boolean to each item and returns only those items for which the function returns True. The reduce() function, available in the functools module, repeatedly applies a binary function to the items of an iterable, reducing them to a single cumulative value. Together, these functions enable functional-style programming by allowing transformation, selection, and accumulation of data in a concise way.\n",
        "\n",
        " EXAMPLE ✈"
      ],
      "metadata": {
        "id": "F1dYGYHqpZ7I"
      }
    },
    {
      "cell_type": "code",
      "source": [
        "from functools import reduce\n",
        "\n",
        "numbers = [1, 2, 3, 4, 5]\n",
        "\n",
        "# map to square each number\n",
        "squares = list(map(lambda x: x**2, numbers))\n",
        "\n",
        "# filter to keep only even numbers\n",
        "evens = list(filter(lambda x: x % 2 == 0, numbers))\n",
        "\n",
        "# reduce to compute the product of all numbers\n",
        "product = reduce(lambda x, y: x * y, numbers)\n",
        "\n",
        "print(squares)\n",
        "print(evens)\n",
        "print(product)\n"
      ],
      "metadata": {
        "colab": {
          "base_uri": "https://localhost:8080/"
        },
        "id": "p6nPlLDvpz_3",
        "outputId": "91e13384-a699-405e-913a-9ee1cc1c877e"
      },
      "execution_count": null,
      "outputs": [
        {
          "output_type": "stream",
          "name": "stdout",
          "text": [
            "[1, 4, 9, 16, 25]\n",
            "[2, 4]\n",
            "120\n"
          ]
        }
      ]
    },
    {
      "cell_type": "markdown",
      "source": [
        "11.  Using pen & Paper write the internal mechanism for sum operation using  reduce function on this given\n",
        "list: [47,11,42,13]\n",
        " - Its answer is available on docs."
      ],
      "metadata": {
        "id": "Dj5ywj3Ap86S"
      }
    },
    {
      "cell_type": "code",
      "source": [
        "# PRACTICAL QUESTIONS"
      ],
      "metadata": {
        "id": "RU1vns0-qPzS"
      },
      "execution_count": null,
      "outputs": []
    },
    {
      "cell_type": "code",
      "source": [
        "# 1.Write a Python function that takes a list of numbers as input and returns the sum of all even numbers in the list.\n",
        "\n",
        "def sum_of_even_numbers(numbers):\n",
        "    return sum(num for num in numbers if num % 2 == 0)\n",
        "\n",
        "my_list = [1, 2, 3, 4, 5, 6]\n",
        "result = sum_of_even_numbers(my_list)\n",
        "print(\"Sum of even numbers:\", result)\n"
      ],
      "metadata": {
        "colab": {
          "base_uri": "https://localhost:8080/"
        },
        "id": "HL2Yy6M6qyqn",
        "outputId": "53d7c43d-a1fb-45de-be13-ca2602f3e997"
      },
      "execution_count": 2,
      "outputs": [
        {
          "output_type": "stream",
          "name": "stdout",
          "text": [
            "Sum of even numbers: 12\n"
          ]
        }
      ]
    },
    {
      "cell_type": "code",
      "source": [
        "# 2.Create a Python function that accepts a string and returns the reverse of that string.\n",
        "\n",
        "def reverse_string(s):\n",
        "    return s[::-1]\n",
        "text = \"hello\"\n",
        "reversed_text = reverse_string(text)\n",
        "print(\"Reversed string:\", reversed_text)\n"
      ],
      "metadata": {
        "colab": {
          "base_uri": "https://localhost:8080/"
        },
        "id": "0MZOlBYlrOZC",
        "outputId": "6c30a967-0366-4d32-f83b-8ad32334cf84"
      },
      "execution_count": 3,
      "outputs": [
        {
          "output_type": "stream",
          "name": "stdout",
          "text": [
            "Reversed string: olleh\n"
          ]
        }
      ]
    },
    {
      "cell_type": "code",
      "source": [
        "# 3.Implement a Python function that takes a list of integers and returns a new list containing the squares of each number.\n",
        "\n",
        "def square_numbers(numbers):\n",
        "    return [num ** 2 for num in numbers]\n",
        "my_list = [1, 2, 3, 4, 5]\n",
        "squared_list = square_numbers(my_list)\n",
        "print(\"Squared numbers:\", squared_list)\n"
      ],
      "metadata": {
        "colab": {
          "base_uri": "https://localhost:8080/"
        },
        "id": "abyuwmHorZoL",
        "outputId": "d336c86b-a1c5-4eb0-c889-9d1e76649a70"
      },
      "execution_count": 4,
      "outputs": [
        {
          "output_type": "stream",
          "name": "stdout",
          "text": [
            "Squared numbers: [1, 4, 9, 16, 25]\n"
          ]
        }
      ]
    },
    {
      "cell_type": "code",
      "source": [
        "# 4. Write a Python function that checks if a given number is prime or not from 1 to 200.\n",
        "\n",
        "def is_prime(n):\n",
        "    if n < 2 or n > 200:\n",
        "        return False  # Not prime if out of range or less than 2\n",
        "    for i in range(2, int(n ** 0.5) + 1):\n",
        "        if n % i == 0:\n",
        "            return False\n",
        "    return True\n",
        "for i in range(1, 201):\n",
        "    if is_prime(i):\n",
        "        print(f\"{i} is a prime number.\")\n"
      ],
      "metadata": {
        "colab": {
          "base_uri": "https://localhost:8080/"
        },
        "id": "hwG4--6irxYe",
        "outputId": "581d7e4f-de49-4e71-8ef3-0080a7f6d787"
      },
      "execution_count": 11,
      "outputs": [
        {
          "output_type": "stream",
          "name": "stdout",
          "text": [
            "2 is a prime number.\n",
            "3 is a prime number.\n",
            "5 is a prime number.\n",
            "7 is a prime number.\n",
            "11 is a prime number.\n",
            "13 is a prime number.\n",
            "17 is a prime number.\n",
            "19 is a prime number.\n",
            "23 is a prime number.\n",
            "29 is a prime number.\n",
            "31 is a prime number.\n",
            "37 is a prime number.\n",
            "41 is a prime number.\n",
            "43 is a prime number.\n",
            "47 is a prime number.\n",
            "53 is a prime number.\n",
            "59 is a prime number.\n",
            "61 is a prime number.\n",
            "67 is a prime number.\n",
            "71 is a prime number.\n",
            "73 is a prime number.\n",
            "79 is a prime number.\n",
            "83 is a prime number.\n",
            "89 is a prime number.\n",
            "97 is a prime number.\n",
            "101 is a prime number.\n",
            "103 is a prime number.\n",
            "107 is a prime number.\n",
            "109 is a prime number.\n",
            "113 is a prime number.\n",
            "127 is a prime number.\n",
            "131 is a prime number.\n",
            "137 is a prime number.\n",
            "139 is a prime number.\n",
            "149 is a prime number.\n",
            "151 is a prime number.\n",
            "157 is a prime number.\n",
            "163 is a prime number.\n",
            "167 is a prime number.\n",
            "173 is a prime number.\n",
            "179 is a prime number.\n",
            "181 is a prime number.\n",
            "191 is a prime number.\n",
            "193 is a prime number.\n",
            "197 is a prime number.\n",
            "199 is a prime number.\n"
          ]
        }
      ]
    },
    {
      "cell_type": "code",
      "source": [
        "# 5. Create an iterator class in Python that generates the Fibonacci sequence up to a specified number of terms.\n",
        "\n",
        "class FibonacciIterator:\n",
        "    def __init__(self, max_terms):\n",
        "        self.max_terms = max_terms\n",
        "        self.count = 0\n",
        "        self.a = 0\n",
        "        self.b = 1\n",
        "\n",
        "    def __iter__(self):\n",
        "        return self\n",
        "\n",
        "    def __next__(self):\n",
        "        if self.count >= self.max_terms:\n",
        "            raise StopIteration\n",
        "        if self.count == 0:\n",
        "            self.count += 1\n",
        "            return 0\n",
        "        elif self.count == 1:\n",
        "            self.count += 1\n",
        "            return 1\n",
        "        else:\n",
        "            self.a, self.b = self.b, self.a + self.b\n",
        "            self.count += 1\n",
        "            return self.a\n",
        "fib = FibonacciIterator(10)\n",
        "\n",
        "for num in fib:\n",
        "    print(num)\n"
      ],
      "metadata": {
        "colab": {
          "base_uri": "https://localhost:8080/"
        },
        "id": "icl0C9f1sFeG",
        "outputId": "5360bd79-4739-4455-bd31-e2ccc7790120"
      },
      "execution_count": 14,
      "outputs": [
        {
          "output_type": "stream",
          "name": "stdout",
          "text": [
            "0\n",
            "1\n",
            "1\n",
            "1\n",
            "2\n",
            "3\n",
            "5\n",
            "8\n",
            "13\n",
            "21\n"
          ]
        }
      ]
    },
    {
      "cell_type": "code",
      "source": [
        "# 6. Write a generator function in Python that yields the powers of 2 up to a given exponent.\n",
        "\n",
        "def powers_of_two(max_exponent):\n",
        "    for exp in range(max_exponent + 1):\n",
        "        yield 2 ** exp\n",
        "for num in powers_of_two(5):\n",
        "    print(num)\n"
      ],
      "metadata": {
        "colab": {
          "base_uri": "https://localhost:8080/"
        },
        "id": "VRmvCqFusfcR",
        "outputId": "2e60204d-28fc-4c1e-8e3c-18f448da6388"
      },
      "execution_count": 15,
      "outputs": [
        {
          "output_type": "stream",
          "name": "stdout",
          "text": [
            "1\n",
            "2\n",
            "4\n",
            "8\n",
            "16\n",
            "32\n"
          ]
        }
      ]
    },
    {
      "cell_type": "code",
      "source": [
        "# 7. Implement a generator function that reads a file line by line and yields each line as a string.\n",
        "\n",
        "def read_file_line_by_line(file_path):\n",
        "    with open(file_path, 'r') as file:\n",
        "        for line in file:\n",
        "            yield line.rstrip('\\n')  # Remove trailing newline characters\n"
      ],
      "metadata": {
        "id": "ExB9C1qVtHHF"
      },
      "execution_count": 20,
      "outputs": []
    },
    {
      "cell_type": "code",
      "source": [
        "# 8. Use a lambda function in Python to sort a list of tuples based on the second element of each tuple.\n",
        "\n",
        "# Sample list of tuples\n",
        "data = [(1, 3), (2, 1), (4, 2), (3, 5)]\n",
        "\n",
        "# Sort based on the second element of each tuple\n",
        "sorted_data = sorted(data, key=lambda x: x[1])\n",
        "\n",
        "print(sorted_data)\n"
      ],
      "metadata": {
        "colab": {
          "base_uri": "https://localhost:8080/"
        },
        "id": "MwVR9fWvtW95",
        "outputId": "f5550030-6e9c-47dd-8e13-05815882b919"
      },
      "execution_count": 21,
      "outputs": [
        {
          "output_type": "stream",
          "name": "stdout",
          "text": [
            "[(2, 1), (4, 2), (1, 3), (3, 5)]\n"
          ]
        }
      ]
    },
    {
      "cell_type": "code",
      "source": [
        "# 9.Write a Python program that uses `map()` to convert a list of temperatures from Celsius to Fahrenheit.\n",
        "\n",
        "# List of temperatures in Celsius\n",
        "celsius_temps = [0, 20, 37, 100]\n",
        "\n",
        "# Use map with a lambda to convert to Fahrenheit\n",
        "fahrenheit_temps = list(map(lambda c: (c * 9/5) + 32, celsius_temps))\n",
        "\n",
        "# Print the result\n",
        "print(\"Fahrenheit temperatures:\", fahrenheit_temps)\n"
      ],
      "metadata": {
        "colab": {
          "base_uri": "https://localhost:8080/"
        },
        "id": "4qxQuQIOtvxo",
        "outputId": "1911e60b-98c7-420f-ec4a-0fb7d25d1efd"
      },
      "execution_count": 22,
      "outputs": [
        {
          "output_type": "stream",
          "name": "stdout",
          "text": [
            "Fahrenheit temperatures: [32.0, 68.0, 98.6, 212.0]\n"
          ]
        }
      ]
    },
    {
      "cell_type": "code",
      "source": [
        "# 10. Create a Python program that uses `filter()` to remove all the vowels from a given string.\n",
        "\n",
        "def remove_vowels(s):\n",
        "    vowels = 'aeiouAEIOU'\n",
        "    return ''.join(filter(lambda char: char not in vowels, s))\n",
        "\n",
        "# Example usage\n",
        "input_str = \"Hello World\"\n",
        "result = remove_vowels(input_str)\n",
        "\n",
        "print(\"String without vowels:\", result)\n"
      ],
      "metadata": {
        "colab": {
          "base_uri": "https://localhost:8080/"
        },
        "id": "7q-kXeHYt6a9",
        "outputId": "4315d04e-df45-42f8-9917-e143275ab7ee"
      },
      "execution_count": 23,
      "outputs": [
        {
          "output_type": "stream",
          "name": "stdout",
          "text": [
            "String without vowels: Hll Wrld\n"
          ]
        }
      ]
    },
    {
      "cell_type": "code",
      "source": [
        "# 11.Write a Python program, which returns a list with 2-tuples. Each tuple consists of the order number and the product of the price per item and the quantity. The product should be increased by 10,- € if the value of the order is smaller than 100,00 €.\n",
        "\n",
        "orders = [\n",
        "    [34587, \"Learning Python, Mark Lutz\", 4, 40.95],\n",
        "    [98762, \"Programming Python, Mark Lutz\", 5, 56.80],\n",
        "    [77226, \"Head First Python, Paul Barry\", 3, 32.95],\n",
        "    [88112, \"Einführung in Python3, Bernd Klein\", 3, 24.99]\n",
        "]\n",
        "\n",
        "# Use map + lambda\n",
        "result = list(map(lambda order: (\n",
        "    order[0],\n",
        "    order[2] * order[3] if order[2] * order[3] >= 100 else order[2] * order[3] + 10\n",
        "), orders))\n",
        "\n",
        "print(result)"
      ],
      "metadata": {
        "colab": {
          "base_uri": "https://localhost:8080/"
        },
        "id": "52JyDhSOuPdt",
        "outputId": "9db14c09-48ab-4d5e-bfff-b6a7dc083742"
      },
      "execution_count": 24,
      "outputs": [
        {
          "output_type": "stream",
          "name": "stdout",
          "text": [
            "[(34587, 163.8), (98762, 284.0), (77226, 108.85000000000001), (88112, 84.97)]\n"
          ]
        }
      ]
    }
  ]
}